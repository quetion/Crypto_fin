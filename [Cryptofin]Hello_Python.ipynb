{
  "nbformat": 4,
  "nbformat_minor": 0,
  "metadata": {
    "colab": {
      "provenance": [],
      "toc_visible": true,
      "authorship_tag": "ABX9TyOX0nXkj41cU5/xtDA2PKI8",
      "include_colab_link": true
    },
    "kernelspec": {
      "name": "python3",
      "display_name": "Python 3"
    },
    "language_info": {
      "name": "python"
    }
  },
  "cells": [
    {
      "cell_type": "markdown",
      "metadata": {
        "id": "view-in-github",
        "colab_type": "text"
      },
      "source": [
        "<a href=\"https://colab.research.google.com/github/quetion/Crypto_fin/blob/main/%5BCryptofin%5DHello_Python.ipynb\" target=\"_parent\"><img src=\"https://colab.research.google.com/assets/colab-badge.svg\" alt=\"Open In Colab\"/></a>"
      ]
    },
    {
      "cell_type": "markdown",
      "source": [
        "# Python的基礎操作\n",
        "- 列印\n",
        "- 變數型態 (字串/數值)\n",
        "- 迴圈概念\n",
        "- 四則運算/向量運算"
      ],
      "metadata": {
        "id": "FL4tVY3NcV8S"
      }
    },
    {
      "cell_type": "code",
      "execution_count": null,
      "metadata": {
        "colab": {
          "base_uri": "https://localhost:8080/"
        },
        "id": "khR5sl1oj64R",
        "outputId": "f65b3735-32d3-40dc-bd70-7632f9a27b86"
      },
      "outputs": [
        {
          "output_type": "stream",
          "name": "stdout",
          "text": [
            "Hello, world.\n"
          ]
        }
      ],
      "source": [
        "# Print Hello, world.\n",
        "print('Hello, world.')"
      ]
    },
    {
      "cell_type": "code",
      "source": [
        "# Print number, float\n",
        "a = 2**(0.5)\n",
        "print(a)\n",
        "print('{}'.format(a))\n",
        "print('{:.2f}'.format(a))"
      ],
      "metadata": {
        "colab": {
          "base_uri": "https://localhost:8080/"
        },
        "id": "6_K6O4lLni3-",
        "outputId": "21955dce-2c8e-467e-806b-6557a32e20a5"
      },
      "execution_count": null,
      "outputs": [
        {
          "output_type": "stream",
          "name": "stdout",
          "text": [
            "1.4142135623730951\n",
            "1.4142135623730951\n",
            "1.41\n"
          ]
        }
      ]
    },
    {
      "cell_type": "code",
      "source": [
        "# print 1,2, ...,20\n",
        "for i in range(20):\n",
        "  print(i)"
      ],
      "metadata": {
        "id": "av0Edy7Vnn9A"
      },
      "execution_count": null,
      "outputs": []
    },
    {
      "cell_type": "code",
      "source": [
        "# sum of the series, 1,2,...,20\n",
        "total = 0\n",
        "for i in range(1,21):\n",
        "  total = total +i\n",
        "print(total)"
      ],
      "metadata": {
        "colab": {
          "base_uri": "https://localhost:8080/"
        },
        "id": "4zG0n79WoArD",
        "outputId": "9369cd5c-ee4f-4cf8-f39f-db9cc2d66f20"
      },
      "execution_count": null,
      "outputs": [
        {
          "output_type": "stream",
          "name": "stdout",
          "text": [
            "210\n"
          ]
        }
      ]
    },
    {
      "cell_type": "code",
      "source": [
        "# import the package\n",
        "import numpy as np\n",
        "import pandas as pd\n",
        "import matplotlib.pyplot as plt"
      ],
      "metadata": {
        "id": "qCfiPtjtoSaF"
      },
      "execution_count": null,
      "outputs": []
    },
    {
      "cell_type": "code",
      "source": [
        "# sum of the series via numpy package\n",
        "arr = np.arange(1,21)\n",
        "arr.sum()"
      ],
      "metadata": {
        "colab": {
          "base_uri": "https://localhost:8080/"
        },
        "id": "PHzJxSStomH3",
        "outputId": "367c0397-dad6-441d-e958-a1289146e4fe"
      },
      "execution_count": null,
      "outputs": [
        {
          "output_type": "execute_result",
          "data": {
            "text/plain": [
              "210"
            ]
          },
          "metadata": {},
          "execution_count": 15
        }
      ]
    },
    {
      "cell_type": "code",
      "source": [
        "# calculate the return\n",
        "p0 = 100\n",
        "p1 = 150\n",
        "ret = (p1-p0)/p0\n",
        "ret = ret*100\n",
        "print('報酬率: {}%'.format(ret))\n",
        "print('年化報酬率: {}%'.format(ret*12))\n"
      ],
      "metadata": {
        "colab": {
          "base_uri": "https://localhost:8080/"
        },
        "id": "C-36hUmRos6f",
        "outputId": "7700b8d8-8a78-468c-9358-b5cdc646e0c2"
      },
      "execution_count": null,
      "outputs": [
        {
          "output_type": "stream",
          "name": "stdout",
          "text": [
            "報酬率: 50.0%\n",
            "年化報酬率: 600.0%\n"
          ]
        }
      ]
    },
    {
      "cell_type": "markdown",
      "source": [
        "# 如何獲取加密貨幣的交易資料\n",
        "- 以比特幣為例\n",
        "- 利用yfinance套件\n",
        "- 資料型態 (dataframe)\n",
        "- 資料整理"
      ],
      "metadata": {
        "id": "4nRB2naPcpJv"
      }
    },
    {
      "cell_type": "code",
      "source": [
        "# 如何獲取加密貨幣資料\n",
        "# 1.安裝套件\n",
        "!pip install yfinance"
      ],
      "metadata": {
        "id": "B5fXHIR4pEAj",
        "colab": {
          "base_uri": "https://localhost:8080/"
        },
        "outputId": "a8157879-8087-45c8-d39f-96f773bf9a67"
      },
      "execution_count": null,
      "outputs": [
        {
          "output_type": "stream",
          "name": "stdout",
          "text": [
            "Requirement already satisfied: yfinance in /usr/local/lib/python3.10/dist-packages (0.2.28)\n",
            "Requirement already satisfied: pandas>=1.3.0 in /usr/local/lib/python3.10/dist-packages (from yfinance) (1.5.3)\n",
            "Requirement already satisfied: numpy>=1.16.5 in /usr/local/lib/python3.10/dist-packages (from yfinance) (1.23.5)\n",
            "Requirement already satisfied: requests>=2.31 in /usr/local/lib/python3.10/dist-packages (from yfinance) (2.31.0)\n",
            "Requirement already satisfied: multitasking>=0.0.7 in /usr/local/lib/python3.10/dist-packages (from yfinance) (0.0.11)\n",
            "Requirement already satisfied: lxml>=4.9.1 in /usr/local/lib/python3.10/dist-packages (from yfinance) (4.9.3)\n",
            "Requirement already satisfied: appdirs>=1.4.4 in /usr/local/lib/python3.10/dist-packages (from yfinance) (1.4.4)\n",
            "Requirement already satisfied: pytz>=2022.5 in /usr/local/lib/python3.10/dist-packages (from yfinance) (2023.3.post1)\n",
            "Requirement already satisfied: frozendict>=2.3.4 in /usr/local/lib/python3.10/dist-packages (from yfinance) (2.3.8)\n",
            "Requirement already satisfied: beautifulsoup4>=4.11.1 in /usr/local/lib/python3.10/dist-packages (from yfinance) (4.11.2)\n",
            "Requirement already satisfied: html5lib>=1.1 in /usr/local/lib/python3.10/dist-packages (from yfinance) (1.1)\n",
            "Requirement already satisfied: soupsieve>1.2 in /usr/local/lib/python3.10/dist-packages (from beautifulsoup4>=4.11.1->yfinance) (2.5)\n",
            "Requirement already satisfied: six>=1.9 in /usr/local/lib/python3.10/dist-packages (from html5lib>=1.1->yfinance) (1.16.0)\n",
            "Requirement already satisfied: webencodings in /usr/local/lib/python3.10/dist-packages (from html5lib>=1.1->yfinance) (0.5.1)\n",
            "Requirement already satisfied: python-dateutil>=2.8.1 in /usr/local/lib/python3.10/dist-packages (from pandas>=1.3.0->yfinance) (2.8.2)\n",
            "Requirement already satisfied: charset-normalizer<4,>=2 in /usr/local/lib/python3.10/dist-packages (from requests>=2.31->yfinance) (3.2.0)\n",
            "Requirement already satisfied: idna<4,>=2.5 in /usr/local/lib/python3.10/dist-packages (from requests>=2.31->yfinance) (3.4)\n",
            "Requirement already satisfied: urllib3<3,>=1.21.1 in /usr/local/lib/python3.10/dist-packages (from requests>=2.31->yfinance) (2.0.4)\n",
            "Requirement already satisfied: certifi>=2017.4.17 in /usr/local/lib/python3.10/dist-packages (from requests>=2.31->yfinance) (2023.7.22)\n"
          ]
        }
      ]
    },
    {
      "cell_type": "code",
      "source": [
        "# 2.匯入必要套件\n",
        "import numpy as np\n",
        "import pandas as pd\n",
        "import yfinance as yf"
      ],
      "metadata": {
        "id": "X4ms6SQhaO-I"
      },
      "execution_count": null,
      "outputs": []
    },
    {
      "cell_type": "code",
      "source": [
        "# 3.下載資料(yahoo finance https://finance.yahoo.com/)\n",
        "data = yf.download('BTC-USD')"
      ],
      "metadata": {
        "colab": {
          "base_uri": "https://localhost:8080/"
        },
        "id": "j1rETFs9aV7A",
        "outputId": "cf5c3f20-ef5e-46f4-db55-c0af741e7f8f"
      },
      "execution_count": null,
      "outputs": [
        {
          "output_type": "stream",
          "name": "stdout",
          "text": [
            "\r[*********************100%%**********************]  1 of 1 completed\n"
          ]
        }
      ]
    },
    {
      "cell_type": "code",
      "source": [
        "# 4. 查看資料\n",
        "data.head()\n",
        "data.tail()\n",
        "data.info()"
      ],
      "metadata": {
        "colab": {
          "base_uri": "https://localhost:8080/",
          "height": 238
        },
        "id": "Oy0FgbmtalCR",
        "outputId": "a8610734-7b5a-4115-b72e-5bff7a43a2cc"
      },
      "execution_count": null,
      "outputs": [
        {
          "output_type": "execute_result",
          "data": {
            "text/plain": [
              "                  Open        High         Low       Close   Adj Close  \\\n",
              "Date                                                                     \n",
              "2014-09-17  465.864014  468.174011  452.421997  457.334015  457.334015   \n",
              "2014-09-18  456.859985  456.859985  413.104004  424.440002  424.440002   \n",
              "2014-09-19  424.102997  427.834991  384.532013  394.795990  394.795990   \n",
              "2014-09-20  394.673004  423.295990  389.882996  408.903992  408.903992   \n",
              "2014-09-21  408.084991  412.425995  393.181000  398.821014  398.821014   \n",
              "\n",
              "              Volume  \n",
              "Date                  \n",
              "2014-09-17  21056800  \n",
              "2014-09-18  34483200  \n",
              "2014-09-19  37919700  \n",
              "2014-09-20  36863600  \n",
              "2014-09-21  26580100  "
            ],
            "text/html": [
              "\n",
              "  <div id=\"df-65b6e941-4ab1-47a4-9330-ce068ea15b1b\" class=\"colab-df-container\">\n",
              "    <div>\n",
              "<style scoped>\n",
              "    .dataframe tbody tr th:only-of-type {\n",
              "        vertical-align: middle;\n",
              "    }\n",
              "\n",
              "    .dataframe tbody tr th {\n",
              "        vertical-align: top;\n",
              "    }\n",
              "\n",
              "    .dataframe thead th {\n",
              "        text-align: right;\n",
              "    }\n",
              "</style>\n",
              "<table border=\"1\" class=\"dataframe\">\n",
              "  <thead>\n",
              "    <tr style=\"text-align: right;\">\n",
              "      <th></th>\n",
              "      <th>Open</th>\n",
              "      <th>High</th>\n",
              "      <th>Low</th>\n",
              "      <th>Close</th>\n",
              "      <th>Adj Close</th>\n",
              "      <th>Volume</th>\n",
              "    </tr>\n",
              "    <tr>\n",
              "      <th>Date</th>\n",
              "      <th></th>\n",
              "      <th></th>\n",
              "      <th></th>\n",
              "      <th></th>\n",
              "      <th></th>\n",
              "      <th></th>\n",
              "    </tr>\n",
              "  </thead>\n",
              "  <tbody>\n",
              "    <tr>\n",
              "      <th>2014-09-17</th>\n",
              "      <td>465.864014</td>\n",
              "      <td>468.174011</td>\n",
              "      <td>452.421997</td>\n",
              "      <td>457.334015</td>\n",
              "      <td>457.334015</td>\n",
              "      <td>21056800</td>\n",
              "    </tr>\n",
              "    <tr>\n",
              "      <th>2014-09-18</th>\n",
              "      <td>456.859985</td>\n",
              "      <td>456.859985</td>\n",
              "      <td>413.104004</td>\n",
              "      <td>424.440002</td>\n",
              "      <td>424.440002</td>\n",
              "      <td>34483200</td>\n",
              "    </tr>\n",
              "    <tr>\n",
              "      <th>2014-09-19</th>\n",
              "      <td>424.102997</td>\n",
              "      <td>427.834991</td>\n",
              "      <td>384.532013</td>\n",
              "      <td>394.795990</td>\n",
              "      <td>394.795990</td>\n",
              "      <td>37919700</td>\n",
              "    </tr>\n",
              "    <tr>\n",
              "      <th>2014-09-20</th>\n",
              "      <td>394.673004</td>\n",
              "      <td>423.295990</td>\n",
              "      <td>389.882996</td>\n",
              "      <td>408.903992</td>\n",
              "      <td>408.903992</td>\n",
              "      <td>36863600</td>\n",
              "    </tr>\n",
              "    <tr>\n",
              "      <th>2014-09-21</th>\n",
              "      <td>408.084991</td>\n",
              "      <td>412.425995</td>\n",
              "      <td>393.181000</td>\n",
              "      <td>398.821014</td>\n",
              "      <td>398.821014</td>\n",
              "      <td>26580100</td>\n",
              "    </tr>\n",
              "  </tbody>\n",
              "</table>\n",
              "</div>\n",
              "    <div class=\"colab-df-buttons\">\n",
              "\n",
              "  <div class=\"colab-df-container\">\n",
              "    <button class=\"colab-df-convert\" onclick=\"convertToInteractive('df-65b6e941-4ab1-47a4-9330-ce068ea15b1b')\"\n",
              "            title=\"Convert this dataframe to an interactive table.\"\n",
              "            style=\"display:none;\">\n",
              "\n",
              "  <svg xmlns=\"http://www.w3.org/2000/svg\" height=\"24px\" viewBox=\"0 -960 960 960\">\n",
              "    <path d=\"M120-120v-720h720v720H120Zm60-500h600v-160H180v160Zm220 220h160v-160H400v160Zm0 220h160v-160H400v160ZM180-400h160v-160H180v160Zm440 0h160v-160H620v160ZM180-180h160v-160H180v160Zm440 0h160v-160H620v160Z\"/>\n",
              "  </svg>\n",
              "    </button>\n",
              "\n",
              "  <style>\n",
              "    .colab-df-container {\n",
              "      display:flex;\n",
              "      gap: 12px;\n",
              "    }\n",
              "\n",
              "    .colab-df-convert {\n",
              "      background-color: #E8F0FE;\n",
              "      border: none;\n",
              "      border-radius: 50%;\n",
              "      cursor: pointer;\n",
              "      display: none;\n",
              "      fill: #1967D2;\n",
              "      height: 32px;\n",
              "      padding: 0 0 0 0;\n",
              "      width: 32px;\n",
              "    }\n",
              "\n",
              "    .colab-df-convert:hover {\n",
              "      background-color: #E2EBFA;\n",
              "      box-shadow: 0px 1px 2px rgba(60, 64, 67, 0.3), 0px 1px 3px 1px rgba(60, 64, 67, 0.15);\n",
              "      fill: #174EA6;\n",
              "    }\n",
              "\n",
              "    .colab-df-buttons div {\n",
              "      margin-bottom: 4px;\n",
              "    }\n",
              "\n",
              "    [theme=dark] .colab-df-convert {\n",
              "      background-color: #3B4455;\n",
              "      fill: #D2E3FC;\n",
              "    }\n",
              "\n",
              "    [theme=dark] .colab-df-convert:hover {\n",
              "      background-color: #434B5C;\n",
              "      box-shadow: 0px 1px 3px 1px rgba(0, 0, 0, 0.15);\n",
              "      filter: drop-shadow(0px 1px 2px rgba(0, 0, 0, 0.3));\n",
              "      fill: #FFFFFF;\n",
              "    }\n",
              "  </style>\n",
              "\n",
              "    <script>\n",
              "      const buttonEl =\n",
              "        document.querySelector('#df-65b6e941-4ab1-47a4-9330-ce068ea15b1b button.colab-df-convert');\n",
              "      buttonEl.style.display =\n",
              "        google.colab.kernel.accessAllowed ? 'block' : 'none';\n",
              "\n",
              "      async function convertToInteractive(key) {\n",
              "        const element = document.querySelector('#df-65b6e941-4ab1-47a4-9330-ce068ea15b1b');\n",
              "        const dataTable =\n",
              "          await google.colab.kernel.invokeFunction('convertToInteractive',\n",
              "                                                    [key], {});\n",
              "        if (!dataTable) return;\n",
              "\n",
              "        const docLinkHtml = 'Like what you see? Visit the ' +\n",
              "          '<a target=\"_blank\" href=https://colab.research.google.com/notebooks/data_table.ipynb>data table notebook</a>'\n",
              "          + ' to learn more about interactive tables.';\n",
              "        element.innerHTML = '';\n",
              "        dataTable['output_type'] = 'display_data';\n",
              "        await google.colab.output.renderOutput(dataTable, element);\n",
              "        const docLink = document.createElement('div');\n",
              "        docLink.innerHTML = docLinkHtml;\n",
              "        element.appendChild(docLink);\n",
              "      }\n",
              "    </script>\n",
              "  </div>\n",
              "\n",
              "\n",
              "<div id=\"df-c7ee368b-f0dd-4ec0-ad62-77672e022da2\">\n",
              "  <button class=\"colab-df-quickchart\" onclick=\"quickchart('df-c7ee368b-f0dd-4ec0-ad62-77672e022da2')\"\n",
              "            title=\"Suggest charts.\"\n",
              "            style=\"display:none;\">\n",
              "\n",
              "<svg xmlns=\"http://www.w3.org/2000/svg\" height=\"24px\"viewBox=\"0 0 24 24\"\n",
              "     width=\"24px\">\n",
              "    <g>\n",
              "        <path d=\"M19 3H5c-1.1 0-2 .9-2 2v14c0 1.1.9 2 2 2h14c1.1 0 2-.9 2-2V5c0-1.1-.9-2-2-2zM9 17H7v-7h2v7zm4 0h-2V7h2v10zm4 0h-2v-4h2v4z\"/>\n",
              "    </g>\n",
              "</svg>\n",
              "  </button>\n",
              "\n",
              "<style>\n",
              "  .colab-df-quickchart {\n",
              "      --bg-color: #E8F0FE;\n",
              "      --fill-color: #1967D2;\n",
              "      --hover-bg-color: #E2EBFA;\n",
              "      --hover-fill-color: #174EA6;\n",
              "      --disabled-fill-color: #AAA;\n",
              "      --disabled-bg-color: #DDD;\n",
              "  }\n",
              "\n",
              "  [theme=dark] .colab-df-quickchart {\n",
              "      --bg-color: #3B4455;\n",
              "      --fill-color: #D2E3FC;\n",
              "      --hover-bg-color: #434B5C;\n",
              "      --hover-fill-color: #FFFFFF;\n",
              "      --disabled-bg-color: #3B4455;\n",
              "      --disabled-fill-color: #666;\n",
              "  }\n",
              "\n",
              "  .colab-df-quickchart {\n",
              "    background-color: var(--bg-color);\n",
              "    border: none;\n",
              "    border-radius: 50%;\n",
              "    cursor: pointer;\n",
              "    display: none;\n",
              "    fill: var(--fill-color);\n",
              "    height: 32px;\n",
              "    padding: 0;\n",
              "    width: 32px;\n",
              "  }\n",
              "\n",
              "  .colab-df-quickchart:hover {\n",
              "    background-color: var(--hover-bg-color);\n",
              "    box-shadow: 0 1px 2px rgba(60, 64, 67, 0.3), 0 1px 3px 1px rgba(60, 64, 67, 0.15);\n",
              "    fill: var(--button-hover-fill-color);\n",
              "  }\n",
              "\n",
              "  .colab-df-quickchart-complete:disabled,\n",
              "  .colab-df-quickchart-complete:disabled:hover {\n",
              "    background-color: var(--disabled-bg-color);\n",
              "    fill: var(--disabled-fill-color);\n",
              "    box-shadow: none;\n",
              "  }\n",
              "\n",
              "  .colab-df-spinner {\n",
              "    border: 2px solid var(--fill-color);\n",
              "    border-color: transparent;\n",
              "    border-bottom-color: var(--fill-color);\n",
              "    animation:\n",
              "      spin 1s steps(1) infinite;\n",
              "  }\n",
              "\n",
              "  @keyframes spin {\n",
              "    0% {\n",
              "      border-color: transparent;\n",
              "      border-bottom-color: var(--fill-color);\n",
              "      border-left-color: var(--fill-color);\n",
              "    }\n",
              "    20% {\n",
              "      border-color: transparent;\n",
              "      border-left-color: var(--fill-color);\n",
              "      border-top-color: var(--fill-color);\n",
              "    }\n",
              "    30% {\n",
              "      border-color: transparent;\n",
              "      border-left-color: var(--fill-color);\n",
              "      border-top-color: var(--fill-color);\n",
              "      border-right-color: var(--fill-color);\n",
              "    }\n",
              "    40% {\n",
              "      border-color: transparent;\n",
              "      border-right-color: var(--fill-color);\n",
              "      border-top-color: var(--fill-color);\n",
              "    }\n",
              "    60% {\n",
              "      border-color: transparent;\n",
              "      border-right-color: var(--fill-color);\n",
              "    }\n",
              "    80% {\n",
              "      border-color: transparent;\n",
              "      border-right-color: var(--fill-color);\n",
              "      border-bottom-color: var(--fill-color);\n",
              "    }\n",
              "    90% {\n",
              "      border-color: transparent;\n",
              "      border-bottom-color: var(--fill-color);\n",
              "    }\n",
              "  }\n",
              "</style>\n",
              "\n",
              "  <script>\n",
              "    async function quickchart(key) {\n",
              "      const quickchartButtonEl =\n",
              "        document.querySelector('#' + key + ' button');\n",
              "      quickchartButtonEl.disabled = true;  // To prevent multiple clicks.\n",
              "      quickchartButtonEl.classList.add('colab-df-spinner');\n",
              "      try {\n",
              "        const charts = await google.colab.kernel.invokeFunction(\n",
              "            'suggestCharts', [key], {});\n",
              "      } catch (error) {\n",
              "        console.error('Error during call to suggestCharts:', error);\n",
              "      }\n",
              "      quickchartButtonEl.classList.remove('colab-df-spinner');\n",
              "      quickchartButtonEl.classList.add('colab-df-quickchart-complete');\n",
              "    }\n",
              "    (() => {\n",
              "      let quickchartButtonEl =\n",
              "        document.querySelector('#df-c7ee368b-f0dd-4ec0-ad62-77672e022da2 button');\n",
              "      quickchartButtonEl.style.display =\n",
              "        google.colab.kernel.accessAllowed ? 'block' : 'none';\n",
              "    })();\n",
              "  </script>\n",
              "</div>\n",
              "    </div>\n",
              "  </div>\n"
            ]
          },
          "metadata": {},
          "execution_count": 4
        }
      ]
    },
    {
      "cell_type": "code",
      "source": [
        "# 5. 選取資料期間: 從2020到現在\n",
        "test = data['2020':]\n",
        "test.info()"
      ],
      "metadata": {
        "colab": {
          "base_uri": "https://localhost:8080/"
        },
        "id": "R8naoohDaok6",
        "outputId": "8990d225-61d5-47b1-d7c8-c68ee101c798"
      },
      "execution_count": null,
      "outputs": [
        {
          "output_type": "stream",
          "name": "stdout",
          "text": [
            "<class 'pandas.core.frame.DataFrame'>\n",
            "DatetimeIndex: 1357 entries, 2020-01-01 to 2023-09-20\n",
            "Data columns (total 6 columns):\n",
            " #   Column     Non-Null Count  Dtype  \n",
            "---  ------     --------------  -----  \n",
            " 0   Open       1357 non-null   float64\n",
            " 1   High       1357 non-null   float64\n",
            " 2   Low        1357 non-null   float64\n",
            " 3   Close      1357 non-null   float64\n",
            " 4   Adj Close  1357 non-null   float64\n",
            " 5   Volume     1357 non-null   int64  \n",
            "dtypes: float64(5), int64(1)\n",
            "memory usage: 74.2 KB\n"
          ]
        }
      ]
    },
    {
      "cell_type": "code",
      "source": [
        "# 6. 選取資料變數\n",
        "test = test[['High','Low','Adj Close']]\n",
        "test.head()"
      ],
      "metadata": {
        "id": "dIS1jxnxay-p"
      },
      "execution_count": null,
      "outputs": []
    },
    {
      "cell_type": "code",
      "source": [
        "# 7. 重新命名變數\n",
        "test.columns = ['high_btc','low_btc','price_btc']"
      ],
      "metadata": {
        "id": "1-04waT3a8Zu"
      },
      "execution_count": null,
      "outputs": []
    },
    {
      "cell_type": "code",
      "source": [
        "# 8. 建立每日報酬率\n",
        "test['ret_btc'] = test.price_btc.pct_change()"
      ],
      "metadata": {
        "id": "uq1fP0xobUDd"
      },
      "execution_count": null,
      "outputs": []
    },
    {
      "cell_type": "code",
      "source": [
        "test.info()"
      ],
      "metadata": {
        "colab": {
          "base_uri": "https://localhost:8080/"
        },
        "id": "_OAPvfIgblzI",
        "outputId": "cb0a3773-6316-4ac0-c606-c126bea2feae"
      },
      "execution_count": null,
      "outputs": [
        {
          "output_type": "stream",
          "name": "stdout",
          "text": [
            "<class 'pandas.core.frame.DataFrame'>\n",
            "DatetimeIndex: 1357 entries, 2020-01-01 to 2023-09-20\n",
            "Data columns (total 4 columns):\n",
            " #   Column     Non-Null Count  Dtype  \n",
            "---  ------     --------------  -----  \n",
            " 0   high_btc   1357 non-null   float64\n",
            " 1   low_btc    1357 non-null   float64\n",
            " 2   price_btc  1357 non-null   float64\n",
            " 3   ret_btc    1356 non-null   float64\n",
            "dtypes: float64(4)\n",
            "memory usage: 53.0 KB\n"
          ]
        }
      ]
    },
    {
      "cell_type": "code",
      "source": [
        "# 9. 建立每日高低價差\n",
        "# 10. 計算報酬率的平均值\n",
        "# 11. 計算報酬率的標準差"
      ],
      "metadata": {
        "id": "w5_WvSacbrLR"
      },
      "execution_count": null,
      "outputs": []
    },
    {
      "cell_type": "markdown",
      "source": [
        "## 小結\n",
        "- 我們可以輕易地利用Python協助我們下載並分析加密貨幣的資料"
      ],
      "metadata": {
        "id": "2ig32_8QcDok"
      }
    },
    {
      "cell_type": "markdown",
      "source": [
        "## 練習題 (HW1)\n",
        "1. 利用套件yfinance下載比特幣交易資料，其中包含，期間為`2019/01/01 - 2023/8/31`\n",
        "2. 利用此資料的收盤價計算出比特幣報酬率\n",
        "3. 根據上題的報酬率結果,計算其平均報酬率,標準差, 最大,最小等統計量 (註:需年化調整)\n",
        "4. 利用上述步驟,計算S&P500指數報酬的各項統計量\n",
        "5. 比較比特幣與S&P500指數的績效表現\n"
      ],
      "metadata": {
        "id": "67gw3wszpg-e"
      }
    },
    {
      "cell_type": "code",
      "source": [
        "#0 import package\n",
        "import numpy as np\n",
        "import pandas as pd\n",
        "import yfinance as yf"
      ],
      "metadata": {
        "id": "UnF0VMu1cM9N"
      },
      "execution_count": 1,
      "outputs": []
    },
    {
      "cell_type": "code",
      "source": [
        "#1 download data from yahoo-finance\n",
        "data = yf.download('BTC-USD')\n",
        "data = data['2019':'2023-08']\n",
        "data.info()"
      ],
      "metadata": {
        "colab": {
          "base_uri": "https://localhost:8080/"
        },
        "id": "ww29lSZYtbUM",
        "outputId": "39718086-ba13-4f74-b745-c609a3735807"
      },
      "execution_count": null,
      "outputs": [
        {
          "output_type": "stream",
          "name": "stdout",
          "text": [
            "\r[*********************100%%**********************]  1 of 1 completed\n",
            "<class 'pandas.core.frame.DataFrame'>\n",
            "DatetimeIndex: 1704 entries, 2019-01-01 to 2023-08-31\n",
            "Data columns (total 6 columns):\n",
            " #   Column     Non-Null Count  Dtype  \n",
            "---  ------     --------------  -----  \n",
            " 0   Open       1704 non-null   float64\n",
            " 1   High       1704 non-null   float64\n",
            " 2   Low        1704 non-null   float64\n",
            " 3   Close      1704 non-null   float64\n",
            " 4   Adj Close  1704 non-null   float64\n",
            " 5   Volume     1704 non-null   int64  \n",
            "dtypes: float64(5), int64(1)\n",
            "memory usage: 93.2 KB\n"
          ]
        }
      ]
    },
    {
      "cell_type": "code",
      "source": [
        "#2 利用收盤價計算出比特幣報酬率\n",
        "data = data[['Adj Close']]\n",
        "data.columns = ['price_btc']\n",
        "data['ret_btc'] = np.log(data.price_btc).diff()\n",
        "data.info()"
      ],
      "metadata": {
        "colab": {
          "base_uri": "https://localhost:8080/"
        },
        "id": "Elf2LhgjtxW7",
        "outputId": "47460334-a471-4522-a1f0-87f1c3602f89"
      },
      "execution_count": null,
      "outputs": [
        {
          "output_type": "stream",
          "name": "stdout",
          "text": [
            "<class 'pandas.core.frame.DataFrame'>\n",
            "DatetimeIndex: 1704 entries, 2019-01-01 to 2023-08-31\n",
            "Data columns (total 2 columns):\n",
            " #   Column     Non-Null Count  Dtype  \n",
            "---  ------     --------------  -----  \n",
            " 0   price_btc  1704 non-null   float64\n",
            " 1   ret_btc    1703 non-null   float64\n",
            "dtypes: float64(2)\n",
            "memory usage: 39.9 KB\n"
          ]
        }
      ]
    },
    {
      "cell_type": "code",
      "source": [
        "#3 計算其平均報酬率,標準差, 最大,最小等統計量\n",
        "print('比特幣報酬之敘述統計量')\n",
        "print(data.ret_btc.describe())\n",
        "mean_btc = data.ret_btc.mean()\n",
        "std_btc = data.ret_btc.std()\n",
        "max_btc = data.ret_btc.max()\n",
        "min_btc = data.ret_btc.min()\n",
        "print('年化報酬率: {:.4f}%'.format(mean_btc*365*100))\n",
        "print('年化標準差: {:.4f}%'.format(std_btc*365**(0.5)*100))\n",
        "print('年化最大值: {:.4f}%'.format(max_btc*365*100))\n",
        "print('年化最小值: {:.4f}%'.format(min_btc*365*100))"
      ],
      "metadata": {
        "colab": {
          "base_uri": "https://localhost:8080/"
        },
        "id": "-aRIRYU5uGpc",
        "outputId": "5f108fbf-fe5c-4717-cb1c-539142c484b7"
      },
      "execution_count": null,
      "outputs": [
        {
          "output_type": "stream",
          "name": "stdout",
          "text": [
            "比特幣報酬之敘述統計量\n",
            "count    1703.000000\n",
            "mean        0.001121\n",
            "std         0.036266\n",
            "min        -0.464730\n",
            "25%        -0.013890\n",
            "50%         0.000741\n",
            "75%         0.016500\n",
            "max         0.171821\n",
            "Name: ret_btc, dtype: float64\n",
            "年化報酬率: 40.9166%\n",
            "年化標準差: 69.2858%\n",
            "年化最大值: 6271.4505%\n",
            "年化最小值: -16962.6514%\n"
          ]
        }
      ]
    },
    {
      "cell_type": "code",
      "source": [
        "#4 計算S&P500的情況\n",
        "#4.1 下載資料\n",
        "data = yf.download('^gspc')\n",
        "data = data['2019':'2023-08']\n",
        "data = data[['Adj Close']]\n",
        "data.columns = ['price_spx']\n",
        "data['ret_spx'] = np.log(data.price_spx).diff()"
      ],
      "metadata": {
        "colab": {
          "base_uri": "https://localhost:8080/"
        },
        "id": "FJuKd1LgvOoM",
        "outputId": "531130c1-9e78-49dd-fedc-0735b28e4682"
      },
      "execution_count": null,
      "outputs": [
        {
          "output_type": "stream",
          "name": "stdout",
          "text": [
            "\r[*********************100%%**********************]  1 of 1 completed\n"
          ]
        }
      ]
    },
    {
      "cell_type": "code",
      "source": [
        "#4.2 計算敘述統計\n",
        "print('S&P 500指數報酬之敘述統計量')\n",
        "print(data.ret_spx.describe())\n",
        "mean_spx = data.ret_spx.mean()\n",
        "std_spx = data.ret_spx.std()\n",
        "max_spx = data.ret_spx.max()\n",
        "min_spx = data.ret_spx.min()\n",
        "\n",
        "print('年化報酬率: {:.4f}%'.format(mean_spx*252*100))\n",
        "print('年化標準差: {:.4f}%'.format(std_spx*252**(0.5)*100))\n",
        "print('年化最大值: {:.4f}%'.format(max_spx*252*100))\n",
        "print('年化最小值: {:.4f}%'.format(min_spx*252*100))"
      ],
      "metadata": {
        "colab": {
          "base_uri": "https://localhost:8080/"
        },
        "id": "dxXoB3bgwuwd",
        "outputId": "90e8e1c7-491e-4914-a386-a48e7cea8776"
      },
      "execution_count": null,
      "outputs": [
        {
          "output_type": "stream",
          "name": "stdout",
          "text": [
            "S&P 500指數報酬之敘述統計量\n",
            "count    1174.000000\n",
            "mean        0.000499\n",
            "std         0.013811\n",
            "min        -0.127652\n",
            "25%        -0.005275\n",
            "50%         0.000884\n",
            "75%         0.007291\n",
            "max         0.089683\n",
            "Name: ret_spx, dtype: float64\n",
            "年化報酬率: 12.5674%\n",
            "年化標準差: 21.9247%\n",
            "年化最大值: 2260.0175%\n",
            "年化最小值: -3216.8354%\n"
          ]
        }
      ]
    },
    {
      "cell_type": "code",
      "source": [
        "#5.比較績效\n",
        "#5.1\n",
        "print('{:.4f};{:.4f}'.format(mean_btc*365,mean_spx*252))\n",
        "print('比特幣報酬高於S&P500指數')\n",
        "#5.2\n",
        "print('{:.4f};{:.4f}'.format(std_btc*365**(0.5),std_spx*252**(0.5)))\n",
        "print('比特幣風險高於S&P500指數')\n",
        "#5.3\n",
        "sharpe_btc = mean_btc*365/std_btc*365**(0.5)\n",
        "sharpe_spx = mean_spx*252/std_spx*252**(0.5)\n",
        "print('{:.4f};{:.4f}'.format(sharpe_btc,sharpe_spx))\n",
        "print('比特幣績效優於S&P500指數')"
      ],
      "metadata": {
        "colab": {
          "base_uri": "https://localhost:8080/"
        },
        "id": "8SYVVcmJwx1d",
        "outputId": "4ec829d8-986f-4d99-bc0c-feb08f78a822"
      },
      "execution_count": null,
      "outputs": [
        {
          "output_type": "stream",
          "name": "stdout",
          "text": [
            "0.4092;0.1257\n",
            "比特幣報酬高於S&P500指數\n",
            "0.6929;0.2192\n",
            "比特幣風險高於S&P500指數\n",
            "215.5503;144.4487\n",
            "比特幣風險高於S&P500指數\n"
          ]
        }
      ]
    },
    {
      "cell_type": "markdown",
      "source": [
        "# 如何了解資產之間的關聯\n",
        "- 相關係數\n",
        "- 計量分析"
      ],
      "metadata": {
        "id": "PMMYJYl3bidR"
      }
    },
    {
      "cell_type": "markdown",
      "source": [
        "## 相關係數\n",
        "- 下載資料\n",
        "- 計算報酬率\n",
        "- 計算相關係數"
      ],
      "metadata": {
        "id": "tFDzihrtbx-h"
      }
    },
    {
      "cell_type": "code",
      "source": [
        "## 相關係數\n",
        "data ="
      ],
      "metadata": {
        "id": "gCEq3s3gxoHV"
      },
      "execution_count": null,
      "outputs": []
    }
  ]
}